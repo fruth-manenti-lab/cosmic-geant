{
 "cells": [
  {
   "cell_type": "code",
   "execution_count": 104,
   "metadata": {},
   "outputs": [],
   "source": [
    "import pandas as pd\n",
    "import numpy as np\n",
    "import matplotlib.pyplot as plt"
   ]
  },
  {
   "cell_type": "code",
   "execution_count": 111,
   "metadata": {},
   "outputs": [],
   "source": [
    "DATADIR = '../build/output/'\n",
    "file = \"TES_nt_hits_t9.csv\"\n",
    "file_path = DATADIR + file\n"
   ]
  },
  {
   "cell_type": "code",
   "execution_count": 112,
   "metadata": {},
   "outputs": [
    {
     "data": {
      "text/html": [
       "<div>\n",
       "<style scoped>\n",
       "    .dataframe tbody tr th:only-of-type {\n",
       "        vertical-align: middle;\n",
       "    }\n",
       "\n",
       "    .dataframe tbody tr th {\n",
       "        vertical-align: top;\n",
       "    }\n",
       "\n",
       "    .dataframe thead th {\n",
       "        text-align: right;\n",
       "    }\n",
       "</style>\n",
       "<table border=\"1\" class=\"dataframe\">\n",
       "  <thead>\n",
       "    <tr style=\"text-align: right;\">\n",
       "      <th></th>\n",
       "      <th>event_id</th>\n",
       "      <th>track_id</th>\n",
       "      <th>particle</th>\n",
       "      <th>parent_id</th>\n",
       "      <th>time</th>\n",
       "      <th>volume</th>\n",
       "      <th>copy_no</th>\n",
       "      <th>energy</th>\n",
       "      <th>prev_volume</th>\n",
       "      <th>step_no</th>\n",
       "      <th>process</th>\n",
       "    </tr>\n",
       "  </thead>\n",
       "  <tbody>\n",
       "    <tr>\n",
       "      <th>0</th>\n",
       "      <td>0</td>\n",
       "      <td>117</td>\n",
       "      <td>opticalphoton</td>\n",
       "      <td>0</td>\n",
       "      <td>3.74825</td>\n",
       "      <td>sipm_PV</td>\n",
       "      <td>57</td>\n",
       "      <td>0.002539</td>\n",
       "      <td>scintillator3</td>\n",
       "      <td>1</td>\n",
       "      <td>Scintillation</td>\n",
       "    </tr>\n",
       "    <tr>\n",
       "      <th>1</th>\n",
       "      <td>0</td>\n",
       "      <td>101</td>\n",
       "      <td>opticalphoton</td>\n",
       "      <td>0</td>\n",
       "      <td>12.79890</td>\n",
       "      <td>sipm_PV</td>\n",
       "      <td>39</td>\n",
       "      <td>0.002330</td>\n",
       "      <td>scintillator3</td>\n",
       "      <td>1</td>\n",
       "      <td>Scintillation</td>\n",
       "    </tr>\n",
       "    <tr>\n",
       "      <th>2</th>\n",
       "      <td>0</td>\n",
       "      <td>96</td>\n",
       "      <td>opticalphoton</td>\n",
       "      <td>0</td>\n",
       "      <td>2.64116</td>\n",
       "      <td>sipm_PV</td>\n",
       "      <td>38</td>\n",
       "      <td>0.004447</td>\n",
       "      <td>scintillator3</td>\n",
       "      <td>1</td>\n",
       "      <td>Cerenkov</td>\n",
       "    </tr>\n",
       "    <tr>\n",
       "      <th>3</th>\n",
       "      <td>0</td>\n",
       "      <td>77</td>\n",
       "      <td>opticalphoton</td>\n",
       "      <td>0</td>\n",
       "      <td>17.04660</td>\n",
       "      <td>sipm_PV</td>\n",
       "      <td>39</td>\n",
       "      <td>0.003948</td>\n",
       "      <td>scintillator3</td>\n",
       "      <td>1</td>\n",
       "      <td>Cerenkov</td>\n",
       "    </tr>\n",
       "    <tr>\n",
       "      <th>4</th>\n",
       "      <td>0</td>\n",
       "      <td>77</td>\n",
       "      <td>opticalphoton</td>\n",
       "      <td>0</td>\n",
       "      <td>17.06180</td>\n",
       "      <td>sipm_PV</td>\n",
       "      <td>39</td>\n",
       "      <td>0.003948</td>\n",
       "      <td>scintillator3</td>\n",
       "      <td>1</td>\n",
       "      <td>Cerenkov</td>\n",
       "    </tr>\n",
       "  </tbody>\n",
       "</table>\n",
       "</div>"
      ],
      "text/plain": [
       "   event_id  track_id       particle  parent_id      time   volume  copy_no  \\\n",
       "0         0       117  opticalphoton          0   3.74825  sipm_PV       57   \n",
       "1         0       101  opticalphoton          0  12.79890  sipm_PV       39   \n",
       "2         0        96  opticalphoton          0   2.64116  sipm_PV       38   \n",
       "3         0        77  opticalphoton          0  17.04660  sipm_PV       39   \n",
       "4         0        77  opticalphoton          0  17.06180  sipm_PV       39   \n",
       "\n",
       "     energy    prev_volume  step_no        process  \n",
       "0  0.002539  scintillator3        1  Scintillation  \n",
       "1  0.002330  scintillator3        1  Scintillation  \n",
       "2  0.004447  scintillator3        1       Cerenkov  \n",
       "3  0.003948  scintillator3        1       Cerenkov  \n",
       "4  0.003948  scintillator3        1       Cerenkov  "
      ]
     },
     "execution_count": 112,
     "metadata": {},
     "output_type": "execute_result"
    }
   ],
   "source": [
    "df = pd.read_csv(file_path, header=None, comment=\"#\", on_bad_lines=\"skip\")\n",
    "\n",
    "df.columns = [\n",
    "    \"event_id\", \"track_id\", \"particle\", \"parent_id\",\n",
    "    \"time\", \"volume\", \"copy_no\", \"energy\",\n",
    "    \"prev_volume\", \"step_no\", \"process\"\n",
    "]\n",
    "df.head()"
   ]
  },
  {
   "cell_type": "code",
   "execution_count": 113,
   "metadata": {},
   "outputs": [
    {
     "name": "stdout",
     "output_type": "stream",
     "text": [
      "    copy_no  photon_count\n",
      "0        32            17\n",
      "1        33            14\n",
      "2        34             4\n",
      "3        35            16\n",
      "4        36             8\n",
      "5        37            19\n",
      "6        38            15\n",
      "7        39            20\n",
      "8        56            19\n",
      "9        57             7\n",
      "10       58             9\n",
      "11       59             9\n",
      "12       60            22\n",
      "13       61            14\n",
      "14       62            15\n",
      "15       63            16\n",
      "\n",
      "Total detected photons: 224\n"
     ]
    }
   ],
   "source": [
    "sipm_counts = df.groupby(\"copy_no\").size().reset_index(name=\"photon_count\")\n",
    "\n",
    "total_photons = sipm_counts[\"photon_count\"].sum()\n",
    "\n",
    "print(sipm_counts)\n",
    "print(f\"\\nTotal detected photons: {total_photons}\")\n"
   ]
  },
  {
   "cell_type": "code",
   "execution_count": 114,
   "metadata": {},
   "outputs": [],
   "source": [
    "photon_dist = np.zeros((16, 16))"
   ]
  },
  {
   "cell_type": "code",
   "execution_count": 115,
   "metadata": {},
   "outputs": [],
   "source": [
    "for i in sipm_counts.to_numpy():\n",
    "    # scintillator 1\n",
    "    if i[0] < 8 and i[0]:\n",
    "        for j in photon_dist:\n",
    "            j[i[0]] += i[1]\n",
    "    elif i[0] >= 8 and i[0] < 16:\n",
    "        photon_dist[i[0]-8] += i[1]\n",
    "    # scintillator 2 \n",
    "    elif i[0] >= 16 and i[0] < 24:\n",
    "        for j in photon_dist:\n",
    "            j[i[0]-8] += i[1]\n",
    "    elif i[0] >= 24 and i[0] < 32:\n",
    "        photon_dist[i[0]-24] += i[1]\n",
    "    # scintillator 3 \n",
    "    elif i[0] >= 32 and i[0] < 40:\n",
    "        photon_dist[i[0]-24] += i[1]\n",
    "    elif i[0] >= 40 and i[0] < 48:\n",
    "        for j in photon_dist:\n",
    "            j[i[0] - 32] += i[1]\n",
    "    # scintillator 4\n",
    "    elif i[0] >= 48 and i[0] < 56:\n",
    "        photon_dist[i[0]-40] += i[1]\n",
    "    elif i[0] >= 56 and i[0] < 64:\n",
    "        for j in photon_dist:\n",
    "            j[i[0] - 56] += i[1]"
   ]
  },
  {
   "cell_type": "code",
   "execution_count": 116,
   "metadata": {},
   "outputs": [
    {
     "data": {
      "text/plain": [
       "<matplotlib.image.AxesImage at 0x7efb9c4c60d0>"
      ]
     },
     "execution_count": 116,
     "metadata": {},
     "output_type": "execute_result"
    },
    {
     "data": {
      "image/png": "[encoded data removed]",
      "text/plain": [
       "<Figure size 640x480 with 1 Axes>"
      ]
     },
     "metadata": {},
     "output_type": "display_data"
    }
   ],
   "source": [
    "plt.imshow(photon_dist)"
   ]
  },
  {
   "cell_type": "code",
   "execution_count": null,
   "metadata": {},
   "outputs": [],
   "source": []
  }
 ],
 "metadata": {
  "kernelspec": {
   "display_name": ".venv",
   "language": "python",
   "name": "python3"
  },
  "language_info": {
   "codemirror_mode": {
    "name": "ipython",
    "version": 3
   },
   "file_extension": ".py",
   "mimetype": "text/x-python",
   "name": "python",
   "nbconvert_exporter": "python",
   "pygments_lexer": "ipython3",
   "version": "3.13.7"
  }
 },
 "nbformat": 4,
 "nbformat_minor": 2
}
