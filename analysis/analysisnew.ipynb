{
 "cells": [
  {
   "cell_type": "code",
   "execution_count": 1,
   "metadata": {},
   "outputs": [],
   "source": [
    "import pandas as pd\n",
    "import numpy as np\n",
    "import matplotlib.pyplot as plt"
   ]
  },
  {
   "cell_type": "code",
   "execution_count": 2,
   "metadata": {},
   "outputs": [],
   "source": [
    "DATADIR = '../build/output/'\n",
    "file = \"TES_nt_hits_t5.csv\"\n",
    "file_path = DATADIR + file\n"
   ]
  },
  {
   "cell_type": "code",
   "execution_count": 3,
   "metadata": {},
   "outputs": [
    {
     "data": {
      "text/html": [
       "<div>\n",
       "<style scoped>\n",
       "    .dataframe tbody tr th:only-of-type {\n",
       "        vertical-align: middle;\n",
       "    }\n",
       "\n",
       "    .dataframe tbody tr th {\n",
       "        vertical-align: top;\n",
       "    }\n",
       "\n",
       "    .dataframe thead th {\n",
       "        text-align: right;\n",
       "    }\n",
       "</style>\n",
       "<table border=\"1\" class=\"dataframe\">\n",
       "  <thead>\n",
       "    <tr style=\"text-align: right;\">\n",
       "      <th></th>\n",
       "      <th>event_id</th>\n",
       "      <th>track_id</th>\n",
       "      <th>particle</th>\n",
       "      <th>parent_id</th>\n",
       "      <th>time</th>\n",
       "      <th>volume</th>\n",
       "      <th>copy_no</th>\n",
       "      <th>energy</th>\n",
       "      <th>prev_volume</th>\n",
       "      <th>step_no</th>\n",
       "      <th>process</th>\n",
       "    </tr>\n",
       "  </thead>\n",
       "  <tbody>\n",
       "    <tr>\n",
       "      <th>0</th>\n",
       "      <td>0</td>\n",
       "      <td>101</td>\n",
       "      <td>opticalphoton</td>\n",
       "      <td>0</td>\n",
       "      <td>9.62556</td>\n",
       "      <td>sipm_PV</td>\n",
       "      <td>20</td>\n",
       "      <td>0.004139</td>\n",
       "      <td>scintillator2</td>\n",
       "      <td>1</td>\n",
       "      <td>Cerenkov</td>\n",
       "    </tr>\n",
       "    <tr>\n",
       "      <th>1</th>\n",
       "      <td>0</td>\n",
       "      <td>101</td>\n",
       "      <td>opticalphoton</td>\n",
       "      <td>0</td>\n",
       "      <td>9.64031</td>\n",
       "      <td>sipm_PV</td>\n",
       "      <td>20</td>\n",
       "      <td>0.004139</td>\n",
       "      <td>scintillator2</td>\n",
       "      <td>1</td>\n",
       "      <td>Cerenkov</td>\n",
       "    </tr>\n",
       "    <tr>\n",
       "      <th>2</th>\n",
       "      <td>0</td>\n",
       "      <td>101</td>\n",
       "      <td>opticalphoton</td>\n",
       "      <td>0</td>\n",
       "      <td>9.65551</td>\n",
       "      <td>sipm_PV</td>\n",
       "      <td>20</td>\n",
       "      <td>0.004139</td>\n",
       "      <td>scintillator2</td>\n",
       "      <td>1</td>\n",
       "      <td>Cerenkov</td>\n",
       "    </tr>\n",
       "    <tr>\n",
       "      <th>3</th>\n",
       "      <td>0</td>\n",
       "      <td>92</td>\n",
       "      <td>opticalphoton</td>\n",
       "      <td>0</td>\n",
       "      <td>32.27320</td>\n",
       "      <td>sipm_PV</td>\n",
       "      <td>28</td>\n",
       "      <td>0.003781</td>\n",
       "      <td>scintillator2</td>\n",
       "      <td>1</td>\n",
       "      <td>Cerenkov</td>\n",
       "    </tr>\n",
       "    <tr>\n",
       "      <th>4</th>\n",
       "      <td>0</td>\n",
       "      <td>92</td>\n",
       "      <td>opticalphoton</td>\n",
       "      <td>0</td>\n",
       "      <td>32.28670</td>\n",
       "      <td>sipm_PV</td>\n",
       "      <td>28</td>\n",
       "      <td>0.003781</td>\n",
       "      <td>scintillator2</td>\n",
       "      <td>1</td>\n",
       "      <td>Cerenkov</td>\n",
       "    </tr>\n",
       "  </tbody>\n",
       "</table>\n",
       "</div>"
      ],
      "text/plain": [
       "   event_id  track_id       particle  parent_id      time   volume  copy_no  \\\n",
       "0         0       101  opticalphoton          0   9.62556  sipm_PV       20   \n",
       "1         0       101  opticalphoton          0   9.64031  sipm_PV       20   \n",
       "2         0       101  opticalphoton          0   9.65551  sipm_PV       20   \n",
       "3         0        92  opticalphoton          0  32.27320  sipm_PV       28   \n",
       "4         0        92  opticalphoton          0  32.28670  sipm_PV       28   \n",
       "\n",
       "     energy    prev_volume  step_no   process  \n",
       "0  0.004139  scintillator2        1  Cerenkov  \n",
       "1  0.004139  scintillator2        1  Cerenkov  \n",
       "2  0.004139  scintillator2        1  Cerenkov  \n",
       "3  0.003781  scintillator2        1  Cerenkov  \n",
       "4  0.003781  scintillator2        1  Cerenkov  "
      ]
     },
     "execution_count": 3,
     "metadata": {},
     "output_type": "execute_result"
    }
   ],
   "source": [
    "df = pd.read_csv(file_path, header=None, comment=\"#\", on_bad_lines=\"skip\")\n",
    "\n",
    "df.columns = [\n",
    "    \"event_id\", \"track_id\", \"particle\", \"parent_id\",\n",
    "    \"time\", \"volume\", \"copy_no\", \"energy\",\n",
    "    \"prev_volume\", \"step_no\", \"process\"\n",
    "]\n",
    "df.head()"
   ]
  },
  {
   "cell_type": "code",
   "execution_count": 4,
   "metadata": {},
   "outputs": [
    {
     "name": "stdout",
     "output_type": "stream",
     "text": [
      "    copy_no  photon_count\n",
      "0        16             8\n",
      "1        17            20\n",
      "2        18            20\n",
      "3        19            29\n",
      "4        20            17\n",
      "5        21             5\n",
      "6        22            35\n",
      "7        23            14\n",
      "8        24            32\n",
      "9        25            33\n",
      "10       26            37\n",
      "11       27            17\n",
      "12       28            22\n",
      "13       29            21\n",
      "14       30            27\n",
      "15       31            28\n",
      "\n",
      "Total detected photons: 365\n"
     ]
    }
   ],
   "source": [
    "sipm_counts = df.groupby(\"copy_no\").size().reset_index(name=\"photon_count\")\n",
    "\n",
    "total_photons = sipm_counts[\"photon_count\"].sum()\n",
    "\n",
    "print(sipm_counts)\n",
    "print(f\"\\nTotal detected photons: {total_photons}\")\n"
   ]
  },
  {
   "cell_type": "code",
   "execution_count": 5,
   "metadata": {},
   "outputs": [],
   "source": [
    "photon_dist = np.zeros((16, 16))"
   ]
  },
  {
   "cell_type": "code",
   "execution_count": 6,
   "metadata": {},
   "outputs": [],
   "source": [
    "for i in sipm_counts.to_numpy():\n",
    "    # scintillator 1\n",
    "    if i[0] < 8 and i[0]:\n",
    "        for j in photon_dist:\n",
    "            j[i[0]] += i[1]\n",
    "    elif i[0] >= 8 and i[0] < 16:\n",
    "        photon_dist[i[0]-8] += i[1]\n",
    "    # scintillator 2 \n",
    "    elif i[0] >= 16 and i[0] < 24:\n",
    "        for j in photon_dist:\n",
    "            j[i[0]-8] += i[1]\n",
    "    elif i[0] >= 24 and i[0] < 32:\n",
    "        photon_dist[i[0]-24] += i[1]\n",
    "    # scintillator 3 \n",
    "    elif i[0] >= 32 and i[0] < 40:\n",
    "        photon_dist[i[0]-24] += i[1]\n",
    "    elif i[0] >= 40 and i[0] < 48:\n",
    "        for j in photon_dist:\n",
    "            j[i[0] - 32] += i[1]\n",
    "    # scintillator 4\n",
    "    elif i[0] >= 48 and i[0] < 56:\n",
    "        photon_dist[i[0]-40] += i[1]\n",
    "    elif i[0] >= 56 and i[0] < 64:\n",
    "        for j in photon_dist:\n",
    "            j[i[0] - 56] += i[1]"
   ]
  },
  {
   "cell_type": "code",
   "execution_count": 13,
   "metadata": {},
   "outputs": [
    {
     "data": {
      "text/plain": [
       "(np.float64(-0.5), np.float64(15.5), np.float64(15.5), np.float64(-0.5))"
      ]
     },
     "execution_count": 13,
     "metadata": {},
     "output_type": "execute_result"
    },
    {
     "data": {
      "image/png": "[encoded data removed]",
      "text/plain": [
       "<Figure size 640x480 with 2 Axes>"
      ]
     },
     "metadata": {},
     "output_type": "display_data"
    }
   ],
   "source": [
    "fig, ax = plt.subplots()\n",
    "im = ax.imshow(photon_dist)\n",
    "plt.colorbar(im, ax=ax, label='Number of photons')\n",
    "plt.axis('off')"
   ]
  },
  {
   "cell_type": "code",
   "execution_count": null,
   "metadata": {},
   "outputs": [],
   "source": []
  }
 ],
 "metadata": {
  "kernelspec": {
   "display_name": ".venv",
   "language": "python",
   "name": "python3"
  },
  "language_info": {
   "codemirror_mode": {
    "name": "ipython",
    "version": 3
   },
   "file_extension": ".py",
   "mimetype": "text/x-python",
   "name": "python",
   "nbconvert_exporter": "python",
   "pygments_lexer": "ipython3",
   "version": "3.13.7"
  }
 },
 "nbformat": 4,
 "nbformat_minor": 2
}
